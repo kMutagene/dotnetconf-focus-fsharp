{
  "cells": [
    {
      "cell_type": "markdown",
      "source": [
        "# NB02c Isotopic Distribution\r\n",
        "\r\n",
        "[![Binder](https://mybinder.org/badge_logo.svg)](https://mybinder.org/v2/gh/CSBiology/BIO-BTE-06-L-7/gh-pages?filepath=NB02c_Isotopic_distribution.ipynb)\r\n",
        "\r\n",
        "[Download Notebook](https://github.com/CSBiology/BIO-BTE-06-L-7/releases/download/NB02a_NB02b_NB02c/NB02c_Isotopic_distribution.ipynb)\r\n",
        "\r\n",
        "1. Isotopic Distribution\r\n",
        "    1. Simulating Isotopic Clusters for peptides\r\n",
        "    2. Simulating Isotopic Clusters for peptides with stable isotope labeled variant\r\n",
        "2. References\r\n",
        "\r\n",
        "## Isotopic Distribution\r\n",
        "\r\n",
        "Peptide signals exhibit a characteristic shape in the mass spectrum that depend on their isotopic profile, which is defined by \r\n",
        "the number of naturally occurring isotopes in the peptide. The occurrence probabilities of natural isotopes are reflected in the mass \r\n",
        "spectrum by the relative heights of the peak series belonging to the respective peptide. The frequency at which natural isotopes occur \r\n",
        "is known and can be used to compute the isotope distribution of a molecule. The isotopic distribution for a given peptide molecule \r\n",
        "C(v)H(w)N(x)O(y)S(z) is described by the following product of polynomials:\r\n",
        "\r\n",
        "![](https://latex.codecogs.com/png.latex?\\large&space;\\newline(&space;{}^{12}\\textrm{C}&space;&plus;&space;{}^{13}\\textrm{C})^{v}&space;\\times&space;({}^{1}\\textrm{H}&plus;{}^{2}\\textrm{H})^{w}&space;\\times&space;({}^{14}\\textrm{N}&plus;{}^{15}\\textrm{N})^{x}\\times({}^{16}\\textrm{O}&plus;{}^{17}\\textrm{O}&space;&plus;&space;{}^{18}\\textrm{O})^{y}\\newline\\times({}^{32}\\textrm{S}&plus;{}^{33}\\textrm{S}&plus;{}^{34}\\textrm{S}&plus;{}^{36}\\textrm{S})^{z})\r\n",
        "\r\n",
        "Symbolic expansion of the polynomials results in many product terms, which correspond to different isotopic variants of a molecule. \r\n",
        "Even for molecules of a medium size, the straightforward expansion of the polynomials leads to an explosion regarding the number of product terms. \r\n",
        "Due to this complexity, there was a need to develop algorithms for efficient computation. The different strategies comprise pruning the \r\n",
        "polynomials to discard terms with coefficients below a threshold (Yergey 1983) combined with a recursive \r\n",
        "computation (Claesen et al. 2012), and Fourier Transformation for a more efficient convolution of the isotope distributions of \r\n",
        "individual elements (Rockwood et al. 1995), or rely on dynamic programming (Snider 2007).\r\n",
        "\r\n",
        "> MIDAs (Alves and Yu 2005) is one of the more elaborate algorithms to predict an isotope cluster based on a given peptide sequence. \r\n",
        "> Simulate the isotopic cluster of the peptide sequence ‘PEPTIDES’ and ‘PEPTIDEPEPTIDEPEPTIDEPEPTIDES’ with natural occurring isotope abundances.\r\n"
      ],
      "metadata": {}
    },
    {
      "cell_type": "code",
      "execution_count": null,
      "source": [
        "#r \"nuget: BioFSharp, 2.0.0-beta5\"\r\n",
        "#r \"nuget: BioFSharp.IO, 2.0.0-beta5\"\r\n",
        "#r \"nuget: Plotly.NET, 2.0.0-beta6\"\r\n",
        "\r\n",
        "#r \"nuget: Plotly.NET, 2.0.0-preview.6\"\r\n",
        "#r \"nuget: Plotly.NET.Interactive, 2.0.0-preview.6\"\r\n",
        "\r\n",
        "open Plotly.NET\r\n",
        "open BioFSharp"
      ],
      "outputs": [
        {
          "data": {
            "text/html": [
              "<div><div></div><div><strong>Installed Packages</strong><ul><li><span>BioFSharp, 2.0.0-beta5</span></li><li><span>BioFSharp.IO, 2.0.0-beta5</span></li><li><span>fsharp.core, 5.0.0</span></li><li><span>fsharpaux, 1.0.0</span></li><li><span>fsharpaux.io, 1.0.0</span></li><li><span>humanizer.core, 2.2.0</span></li><li><span>microsoft.aspnetcore.html.abstractions, 2.2.0</span></li><li><span>microsoft.bcl.asyncinterfaces, 5.0.0</span></li><li><span>microsoft.codeanalysis.common, 3.9.0</span></li><li><span>microsoft.codeanalysis.csharp, 3.9.0</span></li><li><span>microsoft.codeanalysis.csharp.workspaces, 3.9.0</span></li><li><span>microsoft.codeanalysis.visualbasic, 3.9.0</span></li><li><span>microsoft.codeanalysis.visualbasic.workspaces, 3.9.0</span></li><li><span>microsoft.codeanalysis.workspaces.common, 3.9.0</span></li><li><span>microsoft.dotnet.interactive, 1.0.0-beta.21330.2</span></li><li><span>microsoft.dotnet.interactive.formatting, 1.0.0-beta.21330.2</span></li><li><span>newtonsoft.json, 12.0.3</span></li><li><span>nuget.frameworks, 5.0.0</span></li><li><span>Plotly.NET, 2.0.0-beta6</span></li><li><span>Plotly.NET.Interactive, 2.0.0-preview.6</span></li><li><span>system.commandline, 2.0.0-beta1.21308.1</span></li><li><span>system.commandline.rendering, 0.3.0-alpha.20427.1</span></li><li><span>system.composition.attributedmodel, 1.0.31</span></li><li><span>system.composition.convention, 1.0.31</span></li><li><span>system.composition.hosting, 1.0.31</span></li><li><span>system.composition.runtime, 1.0.31</span></li><li><span>system.composition.typedparts, 1.0.31</span></li><li><span>system.io.pipelines, 5.0.0</span></li><li><span>system.reactive, 5.0.0</span></li><li><span>system.text.encodings.web, 5.0.1</span></li><li><span>system.text.json, 5.0.2</span></li></ul></div><div></div></div>"
            ]
          },
          "metadata": {},
          "output_type": "display_data"
        },
        {
          "data": {
            "text/markdown": [
              "Loading extensions from `Plotly.NET.Interactive.dll`"
            ]
          },
          "metadata": {},
          "output_type": "display_data"
        },
        {
          "data": {
            "text/markdown": [
              "Added Kernel Extension including formatters for Plotly.NET charts."
            ]
          },
          "metadata": {},
          "output_type": "display_data"
        }
      ],
      "metadata": {
        "dotnet_interactive": {
          "language": "fsharp"
        }
      }
    },
    {
      "cell_type": "markdown",
      "source": [
        "## Simulating Isotopic Clusters for peptides\n",
        "\n",
        "We will use two artificial peptide sequences and translate them into their elemental composition to simulate their isotopic clusters. \n",
        "Therefore, we first define a function that maps from a peptide sequence to its formula:"
      ],
      "metadata": {}
    },
    {
      "cell_type": "code",
      "execution_count": null,
      "source": [
        "// Code-Block 1\r\n",
        "\r\n",
        "// create chemical formula for amino acid and add water to reflect hydrolysed state in mass spectrometer\r\n",
        "let toFormula bioseq =  \r\n",
        "    bioseq\r\n",
        "    |> BioSeq.toFormula\r\n",
        "    // peptides are hydrolysed in the mass spectrometer, so we add H2O\r\n",
        "    |> Formula.add Formula.Table.H2O"
      ],
      "outputs": [],
      "metadata": {
        "dotnet_interactive": {
          "language": "fsharp"
        }
      }
    },
    {
      "cell_type": "markdown",
      "source": [
        "Next, we will apply our function to receive the elemental composition or chemical formula of the peptides."
      ],
      "metadata": {}
    },
    {
      "cell_type": "code",
      "execution_count": null,
      "source": [
        "// Code-Block 2\r\n",
        "\r\n",
        "// translate single letter code into amino acids and create chemical formula of it.\r\n",
        "let peptide_short = \r\n",
        "    \"PEPTIDES\" \r\n",
        "    |> BioSeq.ofAminoAcidString\r\n",
        "    |> toFormula\r\n",
        "    \r\n",
        "let peptide_long  = \r\n",
        "    \"PEPTIDEPEPTIDEPEPTIDEPEPTIDES\" \r\n",
        "    |> BioSeq.ofAminoAcidString\r\n",
        "    |> toFormula\r\n",
        "    \r\n",
        "let peptide_shortString =\r\n",
        "    peptide_short \r\n",
        "    |> Formula.toString\r\n",
        "\r\n",
        "\r\n",
        "let peptide_longString =\r\n",
        "    peptide_long \r\n",
        "    |> Formula.toString"
      ],
      "outputs": [],
      "metadata": {
        "dotnet_interactive": {
          "language": "fsharp"
        }
      }
    },
    {
      "cell_type": "markdown",
      "source": [
        "Additionally, we need a function that maps from Formula (and charge) to the isotopic distribution. Here, we \n",
        "can use `IsotopicDistribution.MIDA.ofFormula` from the BioFSharp library. However, for convenience \n",
        "(to use the same parameter twice), we define our function `generateIsotopicDistribution`:"
      ],
      "metadata": {}
    },
    {
      "cell_type": "code",
      "execution_count": null,
      "source": [
        "// Code-Block 3\r\n",
        "\r\n",
        "// Predicts an isotopic distribution of the given formula at the given charge, \r\n",
        "// normalized by the sum of probabilities, using the MIDAs algorithm\r\n",
        "let generateIsotopicDistribution (charge:int) (f:Formula.Formula) =\r\n",
        "    IsotopicDistribution.MIDA.ofFormula \r\n",
        "        IsotopicDistribution.MIDA.normalizeByMaxProb\r\n",
        "        0.01\r\n",
        "        0.005\r\n",
        "        charge\r\n",
        "        f\r\n",
        "        \r\n",
        "// create pattern for peptide_short\r\n",
        "let isoPattern_peptide_short = \r\n",
        "    generateIsotopicDistribution 1 peptide_short\r\n",
        "\r\n",
        "// create pattern for peptide_long\r\n",
        "let isoPattern_peptide_long = \r\n",
        "    generateIsotopicDistribution 1 peptide_long\r\n",
        "    \r\n",
        "isoPattern_peptide_long"
      ],
      "outputs": [
        {
          "data": {
            "text/html": [
              "<table><thead><tr><th><i>index</i></th><th>Item1</th><th>Item2</th></tr></thead><tbody><tr><td>0</td><td><div class=\"dni-plaintext\">3231.4470647196554</div></td><td><div class=\"dni-plaintext\">0.6079646485424579</div></td></tr><tr><td>1</td><td><div class=\"dni-plaintext\">3232.4500572584698</div></td><td><div class=\"dni-plaintext\">1</div></td></tr><tr><td>2</td><td><div class=\"dni-plaintext\">3233.452986075872</div></td><td><div class=\"dni-plaintext\">0.9085467193387605</div></td></tr><tr><td>3</td><td><div class=\"dni-plaintext\">3234.4559191540584</div></td><td><div class=\"dni-plaintext\">0.5658743566632869</div></td></tr><tr><td>4</td><td><div class=\"dni-plaintext\">3235.4583946426615</div></td><td><div class=\"dni-plaintext\">0.26182515682174157</div></td></tr><tr><td>5</td><td><div class=\"dni-plaintext\">3236.4625915315855</div></td><td><div class=\"dni-plaintext\">0.08134469002336972</div></td></tr></tbody></table>"
            ]
          },
          "metadata": {},
          "output_type": "display_data"
        }
      ],
      "metadata": {
        "dotnet_interactive": {
          "language": "fsharp"
        }
      }
    },
    {
      "cell_type": "code",
      "execution_count": null,
      "source": [
        "// Code-Block 4\r\n",
        "\r\n",
        "// create one chart for both, short and long peptide isotopic patterns.     \r\n",
        "let isoPatternChart = \r\n",
        "    [\r\n",
        "        Chart.Column(isoPattern_peptide_short,Name= \"peptide_short\" )\r\n",
        "        |> Chart.withX_AxisStyle (\"m/z\",MinMax=(885.,895.))\r\n",
        "        Chart.Column(isoPattern_peptide_long,Name= \"peptide_long\" )\r\n",
        "        |> Chart.withX_AxisStyle (\"m/z\",MinMax=(3230., 3240.))\r\n",
        "    ]\r\n",
        "    |> Chart.Stack 2\r\n",
        "    |> Chart.withSize (900.,600.)\r\n",
        "    |> Chart.withTitle \"Isotopeclusters\"\r\n",
        "    |> Chart.withY_AxisStyle \"intensity\"\r\n",
        "    |> Chart.withTemplate ChartTemplates.darkMirrored\r\n",
        "isoPatternChart"
      ],
      "outputs": [
        {
          "data": {
            "text/html": [
              "<div id=\"3854e739-9c75-49bb-b3db-4ef2b690806b\" style=\"width: 900px; height: 600px;\"><!-- Plotly chart will be drawn inside this DIV --></div>\r\n",
              "<script type=\"text/javascript\">\r\n",
              "\n",
              "            var renderPlotly_3854e7399c7549bbb3db4ef2b690806b = function() {\n",
              "            var fsharpPlotlyRequire = requirejs.config({context:'fsharp-plotly',paths:{plotly:'https://cdn.plot.ly/plotly-latest.min'}}) || require;\n",
              "            fsharpPlotlyRequire(['plotly'], function(Plotly) {\r\n",
              "\n",
              "            var data = [{\"type\":\"bar\",\"x\":[887.399558199034,888.4024872665019,889.4049942776403,890.4081884772683],\"y\":[1.0,0.43236774529511174,0.12578247843311785,0.024134205673036688],\"marker\":{},\"name\":\"peptide_short\",\"xaxis\":\"x\",\"yaxis\":\"y\"},{\"type\":\"bar\",\"x\":[3231.4470647196554,3232.4500572584698,3233.452986075872,3234.4559191540584,3235.4583946426615,3236.4625915315855],\"y\":[0.6079646485424579,1.0,0.9085467193387605,0.5658743566632869,0.26182515682174157,0.08134469002336972],\"marker\":{},\"name\":\"peptide_long\",\"xaxis\":\"x2\",\"yaxis\":\"y2\"}];\n",
              "            var layout = {\"xaxis\":{\"title\":\"m/z\",\"range\":[885.0,895.0],\"anchor\":\"y\",\"domain\":[0.0,0.45]},\"yaxis\":{\"anchor\":\"x\",\"domain\":[0.050000000000000044,1.0],\"title\":\"intensity\"},\"xaxis2\":{\"title\":\"m/z\",\"range\":[3230.0,3240.0],\"anchor\":\"y2\",\"domain\":[0.5,0.95]},\"yaxis2\":{\"anchor\":\"x2\",\"domain\":[0.050000000000000044,1.0]},\"width\":900.0,\"height\":600.0,\"title\":\"Isotopeclusters\",\"template\":{\"layout\":{\"paper_bgcolor\":\"rgb(55, 55, 61)\",\"plot_bgcolor\":\"rgb(55, 55, 61)\",\"font\":{\"color\":\"rgb(204, 204, 204)\"},\"xaxis\":{\"tickcolor\":\"rgba(204, 204, 204, 0.5)\",\"showline\":true,\"linecolor\":\"rgb(204, 204, 204)\",\"gridcolor\":\"rgba(204, 204, 204, 0.3)\",\"zeroline\":true,\"zerolinecolor\":\"rgb(204, 204, 204)\",\"mirror\":\"allticks\"},\"yaxis\":{\"tickcolor\":\"rgba(204, 204, 204, 0.5)\",\"showline\":true,\"linecolor\":\"rgb(204, 204, 204)\",\"gridcolor\":\"rgba(204, 204, 204, 0.3)\",\"zeroline\":true,\"zerolinecolor\":\"rgb(204, 204, 204)\",\"mirror\":\"allticks\"}}}};\n",
              "            var config = {};\n",
              "            Plotly.newPlot('3854e739-9c75-49bb-b3db-4ef2b690806b', data, layout, config);\r\n",
              "});\n",
              "            };\n",
              "            if ((typeof(requirejs) !==  typeof(Function)) || (typeof(requirejs.config) !== typeof(Function))) {\n",
              "                var script = document.createElement(\"script\");\n",
              "                script.setAttribute(\"src\", \"https://cdnjs.cloudflare.com/ajax/libs/require.js/2.3.6/require.min.js\");\n",
              "                script.onload = function(){\n",
              "                    renderPlotly_3854e7399c7549bbb3db4ef2b690806b();\n",
              "                };\n",
              "                document.getElementsByTagName(\"head\")[0].appendChild(script);\n",
              "            }\n",
              "            else {\n",
              "                renderPlotly_3854e7399c7549bbb3db4ef2b690806b();\n",
              "            }\r\n",
              "</script>\r\n"
            ]
          },
          "metadata": {},
          "output_type": "display_data"
        }
      ],
      "metadata": {
        "dotnet_interactive": {
          "language": "fsharp"
        }
      }
    },
    {
      "cell_type": "markdown",
      "source": [
        "## Simulating Isotopic Clusters for peptides with stable isotope labeled variant\n",
        "\n",
        "In addition to the natural occurring isotopic distribution, the field of proteomics has benefited greatly from the ability to \n",
        "introduce stable isotopes into peptide sequences. So called isotopic labeling refers to the introduction of a naturally low-abundance \n",
        "isotope of carbon, nitrogen, hydrogen and, in some cases, oxygen, into a peptide sequence. The isotopes commonly used are 13C, \n",
        "15N, 2H (deuterium) and 18O with natural abundances of 1.10%, 0.366%, 0.015% and 0.200%, \n",
        "respectively (Becker 2008). Therefore, the introduction of these isotopes into a peptide sequence can be detected by \n",
        "most modern mass spectrometers leading to a respective mass shift and the ability to separate the same peptide species within the same run.\n",
        "\n",
        "> MIDAs (Alves and Yu 2005) is also able to predict isotope clusters with altered isotope abundances. Simulate the isotopic cluster \n",
        "> of the peptide sequence ‘PEPTIDES’ and ‘PEPTIDEPEPTIDEPEPTIDEPEPTIDES’ with stable isotopes 15N labeling. \n",
        "\n",
        "Therefore, we define a function called `label`. The function maps from a formula to a formula with exchangen nitrogen isotopes. \n",
        "(Attention: Don't get confused a formula is just a FSharpMap.) "
      ],
      "metadata": {}
    },
    {
      "cell_type": "code",
      "execution_count": null,
      "source": [
        "// Code-Block 5\r\n",
        "\r\n",
        "/// returns a function that replaces the nitrogen atoms in a formula\r\n",
        "/// with the 15N isotope\r\n",
        "let label formula =\r\n",
        "    Formula.replaceElement formula Elements.Table.N Elements.Table.Heavy.N15\r\n",
        "\r\n",
        "// Code-Block 6\r\n",
        "\r\n",
        "let N15_peptide_short = \r\n",
        "    \"PEPTIDES\" \r\n",
        "    |> BioSeq.ofAminoAcidString\r\n",
        "    |> toFormula\r\n",
        "    |> label\r\n",
        "\r\n",
        "let N15_peptide_long  = \r\n",
        "    \"PEPTIDEPEPTIDEPEPTIDEPEPTIDES\" \r\n",
        "    |> BioSeq.ofAminoAcidString\r\n",
        "    |> toFormula\r\n",
        "    |> label\r\n",
        "\r\n",
        "//result: N15_peptide_short\r\n",
        "N15_peptide_short"
      ],
      "outputs": [
        {
          "data": {
            "text/html": [
              "<table><thead><tr><th><i>key</i></th><th>value</th></tr></thead><tbody><tr><td><table><thead><tr><th>Item</th></tr></thead><tbody><tr><td><div class=\"dni-plaintext\">{ { Symbol = &quot;C&quot;\n",
              "  X = { AtomicSymbol = &quot;C&quot;\n",
              "        AtomicNumberZ = 6\n",
              "        MassNumber = 12\n",
              "        Mass = 12.0\n",
              "        NatAbundance = 0.98938\n",
              "        RelAtomicMass = 12.01078 }\n",
              "  Xcomp = 0.98938\n",
              "  X1 = { AtomicSymbol = &quot;C&quot;\n",
              "         AtomicNumberZ = 6\n",
              "         MassNumber = 13\n",
              "         Mass = 13.00335484\n",
              "         NatAbundance = 0.01078\n",
              "         RelAtomicMass = 12.01078 }\n",
              "  X1comp = 0.01078\n",
              "  Root = -91.77922078 }: Symbol: C, X: { { AtomicSymbol = &quot;C&quot;\n",
              "  AtomicNumberZ = 6\n",
              "  MassNumber = 12\n",
              "  Mass = 12.0\n",
              "  NatAbundance = 0.98938\n",
              "  RelAtomicMass = 12.01078 }: AtomicSymbol: C, AtomicNumberZ: 6, MassNumber: 12, Mass: 12, NatAbundance: 0.98938, RelAtomicMass: 12.01078 }, Xcomp: 0.98938, X1: { { AtomicSymbol = &quot;C&quot;\n",
              "  AtomicNumberZ = 6\n",
              "  MassNumber = 13\n",
              "  Mass = 13.00335484\n",
              "  NatAbundance = 0.01078\n",
              "  RelAtomicMass = 12.01078 }: AtomicSymbol: C, AtomicNumberZ: 6, MassNumber: 13, Mass: 13.0033548378, NatAbundance: 0.01078, RelAtomicMass: 12.01078 }, X1comp: 0.01078, Root: -91.77922077922078 }</div></td></tr></tbody></table></td><td><div class=\"dni-plaintext\">37</div></td></tr><tr><td><table><thead><tr><th>Item</th></tr></thead><tbody><tr><td><div class=\"dni-plaintext\">{ { Symbol = &quot;H&quot;\n",
              "  X = { AtomicSymbol = &quot;H&quot;\n",
              "        AtomicNumberZ = 1\n",
              "        MassNumber = 1\n",
              "        Mass = 1.007825032\n",
              "        NatAbundance = 0.999885\n",
              "        RelAtomicMass = 1.007947 }\n",
              "  Xcomp = 0.999885\n",
              "  X1 = { AtomicSymbol = &quot;D&quot;\n",
              "         AtomicNumberZ = 1\n",
              "         MassNumber = 2\n",
              "         Mass = 2.014101778\n",
              "         NatAbundance = 0.000115\n",
              "         RelAtomicMass = 1.007947 }\n",
              "  X1comp = 0.000115\n",
              "  Root = -8694.652174 }: Symbol: H, X: { { AtomicSymbol = &quot;H&quot;\n",
              "  AtomicNumberZ = 1\n",
              "  MassNumber = 1\n",
              "  Mass = 1.007825032\n",
              "  NatAbundance = 0.999885\n",
              "  RelAtomicMass = 1.007947 }: AtomicSymbol: H, AtomicNumberZ: 1, MassNumber: 1, Mass: 1.00782503207, NatAbundance: 0.999885, RelAtomicMass: 1.007947 }, Xcomp: 0.999885, X1: { { AtomicSymbol = &quot;D&quot;\n",
              "  AtomicNumberZ = 1\n",
              "  MassNumber = 2\n",
              "  Mass = 2.014101778\n",
              "  NatAbundance = 0.000115\n",
              "  RelAtomicMass = 1.007947 }: AtomicSymbol: D, AtomicNumberZ: 1, MassNumber: 2, Mass: 2.0141017778, NatAbundance: 0.000115, RelAtomicMass: 1.007947 }, X1comp: 0.000115, Root: -8694.652173913044 }</div></td></tr></tbody></table></td><td><div class=\"dni-plaintext\">58</div></td></tr><tr><td><table><thead><tr><th>Item</th></tr></thead><tbody><tr><td><div class=\"dni-plaintext\">{ { Symbol = &quot;N15&quot;\n",
              "  X = { AtomicSymbol = &quot;N&quot;\n",
              "        AtomicNumberZ = 7\n",
              "        MassNumber = 15\n",
              "        Mass = 15.0001089\n",
              "        NatAbundance = 0.00364\n",
              "        RelAtomicMass = 14.0067 }\n",
              "  Xcomp = 0.99636\n",
              "  X1 = { AtomicSymbol = &quot;N&quot;\n",
              "         AtomicNumberZ = 7\n",
              "         MassNumber = 14\n",
              "         Mass = 14.003074\n",
              "         NatAbundance = 0.99636\n",
              "         RelAtomicMass = 14.0067 }\n",
              "  X1comp = 0.00364\n",
              "  Root = -273.7252747 }: Symbol: N15, X: { { AtomicSymbol = &quot;N&quot;\n",
              "  AtomicNumberZ = 7\n",
              "  MassNumber = 15\n",
              "  Mass = 15.0001089\n",
              "  NatAbundance = 0.00364\n",
              "  RelAtomicMass = 14.0067 }: AtomicSymbol: N, AtomicNumberZ: 7, MassNumber: 15, Mass: 15.0001088982, NatAbundance: 0.00364, RelAtomicMass: 14.0067 }, Xcomp: 0.99636, X1: { { AtomicSymbol = &quot;N&quot;\n",
              "  AtomicNumberZ = 7\n",
              "  MassNumber = 14\n",
              "  Mass = 14.003074\n",
              "  NatAbundance = 0.99636\n",
              "  RelAtomicMass = 14.0067 }: AtomicSymbol: N, AtomicNumberZ: 7, MassNumber: 14, Mass: 14.0030740048, NatAbundance: 0.99636, RelAtomicMass: 14.0067 }, X1comp: 0.00364, Root: -273.72527472527474 }</div></td></tr></tbody></table></td><td><div class=\"dni-plaintext\">8</div></td></tr><tr><td><table><thead><tr><th>Item</th></tr></thead><tbody><tr><td><div class=\"dni-plaintext\">{ { Symbol = &quot;O&quot;\n",
              "  X = { AtomicSymbol = &quot;O&quot;\n",
              "        AtomicNumberZ = 8\n",
              "        MassNumber = 16\n",
              "        Mass = 15.99491462\n",
              "        NatAbundance = 0.99757\n",
              "        RelAtomicMass = 15.9994 }\n",
              "  Xcomp = 0.99757\n",
              "  X1 = { AtomicSymbol = &quot;O&quot;\n",
              "         AtomicNumberZ = 8\n",
              "         MassNumber = 17\n",
              "         Mass = 16.9991317\n",
              "         NatAbundance = 0.00038\n",
              "         RelAtomicMass = 15.9994 }\n",
              "  X1comp = 0.00038\n",
              "  X2 = { AtomicSymbol = &quot;O&quot;\n",
              "         AtomicNumberZ = 8\n",
              "         MassNumber = 18\n",
              "         Mass = 17.9991611\n",
              "         NatAbundance = 0.00205\n",
              "         RelAtomicMass = 15.9994 }\n",
              "  X2comp = 0.00205\n",
              "  Root =\n",
              "   ((-0,09268292682926829, 22,05925932732548),\n",
              "    (-0,09268292682926829, -22,05925932732548)) }: Symbol: O, X: { { AtomicSymbol = &quot;O&quot;\n",
              "  AtomicNumberZ = 8\n",
              "  MassNumber = 16\n",
              "  Mass = 15.99491462\n",
              "  NatAbundance = 0.99757\n",
              "  RelAtomicMass = 15.9994 }: AtomicSymbol: O, AtomicNumberZ: 8, MassNumber: 16, Mass: 15.994914619, NatAbundance: 0.99757, RelAtomicMass: 15.9994 }, Xcomp: 0.99757, X1: { { AtomicSymbol = &quot;O&quot;\n",
              "  AtomicNumberZ = 8\n",
              "  MassNumber = 17\n",
              "  Mass = 16.9991317\n",
              "  NatAbundance = 0.00038\n",
              "  RelAtomicMass = 15.9994 }: AtomicSymbol: O, AtomicNumberZ: 8, MassNumber: 17, Mass: 16.9991317, NatAbundance: 0.00038, RelAtomicMass: 15.9994 }, X1comp: 0.00038, X2: { { AtomicSymbol = &quot;O&quot;\n",
              "  AtomicNumberZ = 8\n",
              "  MassNumber = 18\n",
              "  Mass = 17.9991611\n",
              "  NatAbundance = 0.00205\n",
              "  RelAtomicMass = 15.9994 }: AtomicSymbol: O, AtomicNumberZ: 8, MassNumber: 18, Mass: 17.9991611, NatAbundance: 0.00205, RelAtomicMass: 15.9994 }, X2comp: 0.00205, Root: ( { (-0.09268292682926829, 22.05925932732548): Real: -0.09268292682926829, Imaginary: 22.05925932732548, Magnitude: 22.059454032117884, Phase: 1.5749978450817832 }, { (-0.09268292682926829, -22.05925932732548): Real: -0.09268292682926829, Imaginary: -22.05925932732548, Magnitude: 22.059454032117884, Phase: -1.5749978450817832 } ) }</div></td></tr></tbody></table></td><td><div class=\"dni-plaintext\">17</div></td></tr></tbody></table>"
            ]
          },
          "metadata": {},
          "output_type": "display_data"
        }
      ],
      "metadata": {
        "dotnet_interactive": {
          "language": "fsharp"
        }
      }
    },
    {
      "cell_type": "code",
      "execution_count": null,
      "source": [
        "//result: N15_peptide_long\r\n",
        "N15_peptide_long"
      ],
      "outputs": [
        {
          "data": {
            "text/html": [
              "<table><thead><tr><th><i>key</i></th><th>value</th></tr></thead><tbody><tr><td><table><thead><tr><th>Item</th></tr></thead><tbody><tr><td><div class=\"dni-plaintext\">{ { Symbol = &quot;C&quot;\n",
              "  X = { AtomicSymbol = &quot;C&quot;\n",
              "        AtomicNumberZ = 6\n",
              "        MassNumber = 12\n",
              "        Mass = 12.0\n",
              "        NatAbundance = 0.98938\n",
              "        RelAtomicMass = 12.01078 }\n",
              "  Xcomp = 0.98938\n",
              "  X1 = { AtomicSymbol = &quot;C&quot;\n",
              "         AtomicNumberZ = 6\n",
              "         MassNumber = 13\n",
              "         Mass = 13.00335484\n",
              "         NatAbundance = 0.01078\n",
              "         RelAtomicMass = 12.01078 }\n",
              "  X1comp = 0.01078\n",
              "  Root = -91.77922078 }: Symbol: C, X: { { AtomicSymbol = &quot;C&quot;\n",
              "  AtomicNumberZ = 6\n",
              "  MassNumber = 12\n",
              "  Mass = 12.0\n",
              "  NatAbundance = 0.98938\n",
              "  RelAtomicMass = 12.01078 }: AtomicSymbol: C, AtomicNumberZ: 6, MassNumber: 12, Mass: 12, NatAbundance: 0.98938, RelAtomicMass: 12.01078 }, Xcomp: 0.98938, X1: { { AtomicSymbol = &quot;C&quot;\n",
              "  AtomicNumberZ = 6\n",
              "  MassNumber = 13\n",
              "  Mass = 13.00335484\n",
              "  NatAbundance = 0.01078\n",
              "  RelAtomicMass = 12.01078 }: AtomicSymbol: C, AtomicNumberZ: 6, MassNumber: 13, Mass: 13.0033548378, NatAbundance: 0.01078, RelAtomicMass: 12.01078 }, X1comp: 0.01078, Root: -91.77922077922078 }</div></td></tr></tbody></table></td><td><div class=\"dni-plaintext\">139</div></td></tr><tr><td><table><thead><tr><th>Item</th></tr></thead><tbody><tr><td><div class=\"dni-plaintext\">{ { Symbol = &quot;H&quot;\n",
              "  X = { AtomicSymbol = &quot;H&quot;\n",
              "        AtomicNumberZ = 1\n",
              "        MassNumber = 1\n",
              "        Mass = 1.007825032\n",
              "        NatAbundance = 0.999885\n",
              "        RelAtomicMass = 1.007947 }\n",
              "  Xcomp = 0.999885\n",
              "  X1 = { AtomicSymbol = &quot;D&quot;\n",
              "         AtomicNumberZ = 1\n",
              "         MassNumber = 2\n",
              "         Mass = 2.014101778\n",
              "         NatAbundance = 0.000115\n",
              "         RelAtomicMass = 1.007947 }\n",
              "  X1comp = 0.000115\n",
              "  Root = -8694.652174 }: Symbol: H, X: { { AtomicSymbol = &quot;H&quot;\n",
              "  AtomicNumberZ = 1\n",
              "  MassNumber = 1\n",
              "  Mass = 1.007825032\n",
              "  NatAbundance = 0.999885\n",
              "  RelAtomicMass = 1.007947 }: AtomicSymbol: H, AtomicNumberZ: 1, MassNumber: 1, Mass: 1.00782503207, NatAbundance: 0.999885, RelAtomicMass: 1.007947 }, Xcomp: 0.999885, X1: { { AtomicSymbol = &quot;D&quot;\n",
              "  AtomicNumberZ = 1\n",
              "  MassNumber = 2\n",
              "  Mass = 2.014101778\n",
              "  NatAbundance = 0.000115\n",
              "  RelAtomicMass = 1.007947 }: AtomicSymbol: D, AtomicNumberZ: 1, MassNumber: 2, Mass: 2.0141017778, NatAbundance: 0.000115, RelAtomicMass: 1.007947 }, X1comp: 0.000115, Root: -8694.652173913044 }</div></td></tr></tbody></table></td><td><div class=\"dni-plaintext\">211</div></td></tr><tr><td><table><thead><tr><th>Item</th></tr></thead><tbody><tr><td><div class=\"dni-plaintext\">{ { Symbol = &quot;N15&quot;\n",
              "  X = { AtomicSymbol = &quot;N&quot;\n",
              "        AtomicNumberZ = 7\n",
              "        MassNumber = 15\n",
              "        Mass = 15.0001089\n",
              "        NatAbundance = 0.00364\n",
              "        RelAtomicMass = 14.0067 }\n",
              "  Xcomp = 0.99636\n",
              "  X1 = { AtomicSymbol = &quot;N&quot;\n",
              "         AtomicNumberZ = 7\n",
              "         MassNumber = 14\n",
              "         Mass = 14.003074\n",
              "         NatAbundance = 0.99636\n",
              "         RelAtomicMass = 14.0067 }\n",
              "  X1comp = 0.00364\n",
              "  Root = -273.7252747 }: Symbol: N15, X: { { AtomicSymbol = &quot;N&quot;\n",
              "  AtomicNumberZ = 7\n",
              "  MassNumber = 15\n",
              "  Mass = 15.0001089\n",
              "  NatAbundance = 0.00364\n",
              "  RelAtomicMass = 14.0067 }: AtomicSymbol: N, AtomicNumberZ: 7, MassNumber: 15, Mass: 15.0001088982, NatAbundance: 0.00364, RelAtomicMass: 14.0067 }, Xcomp: 0.99636, X1: { { AtomicSymbol = &quot;N&quot;\n",
              "  AtomicNumberZ = 7\n",
              "  MassNumber = 14\n",
              "  Mass = 14.003074\n",
              "  NatAbundance = 0.99636\n",
              "  RelAtomicMass = 14.0067 }: AtomicSymbol: N, AtomicNumberZ: 7, MassNumber: 14, Mass: 14.0030740048, NatAbundance: 0.99636, RelAtomicMass: 14.0067 }, X1comp: 0.00364, Root: -273.72527472527474 }</div></td></tr></tbody></table></td><td><div class=\"dni-plaintext\">29</div></td></tr><tr><td><table><thead><tr><th>Item</th></tr></thead><tbody><tr><td><div class=\"dni-plaintext\">{ { Symbol = &quot;O&quot;\n",
              "  X = { AtomicSymbol = &quot;O&quot;\n",
              "        AtomicNumberZ = 8\n",
              "        MassNumber = 16\n",
              "        Mass = 15.99491462\n",
              "        NatAbundance = 0.99757\n",
              "        RelAtomicMass = 15.9994 }\n",
              "  Xcomp = 0.99757\n",
              "  X1 = { AtomicSymbol = &quot;O&quot;\n",
              "         AtomicNumberZ = 8\n",
              "         MassNumber = 17\n",
              "         Mass = 16.9991317\n",
              "         NatAbundance = 0.00038\n",
              "         RelAtomicMass = 15.9994 }\n",
              "  X1comp = 0.00038\n",
              "  X2 = { AtomicSymbol = &quot;O&quot;\n",
              "         AtomicNumberZ = 8\n",
              "         MassNumber = 18\n",
              "         Mass = 17.9991611\n",
              "         NatAbundance = 0.00205\n",
              "         RelAtomicMass = 15.9994 }\n",
              "  X2comp = 0.00205\n",
              "  Root =\n",
              "   ((-0,09268292682926829, 22,05925932732548),\n",
              "    (-0,09268292682926829, -22,05925932732548)) }: Symbol: O, X: { { AtomicSymbol = &quot;O&quot;\n",
              "  AtomicNumberZ = 8\n",
              "  MassNumber = 16\n",
              "  Mass = 15.99491462\n",
              "  NatAbundance = 0.99757\n",
              "  RelAtomicMass = 15.9994 }: AtomicSymbol: O, AtomicNumberZ: 8, MassNumber: 16, Mass: 15.994914619, NatAbundance: 0.99757, RelAtomicMass: 15.9994 }, Xcomp: 0.99757, X1: { { AtomicSymbol = &quot;O&quot;\n",
              "  AtomicNumberZ = 8\n",
              "  MassNumber = 17\n",
              "  Mass = 16.9991317\n",
              "  NatAbundance = 0.00038\n",
              "  RelAtomicMass = 15.9994 }: AtomicSymbol: O, AtomicNumberZ: 8, MassNumber: 17, Mass: 16.9991317, NatAbundance: 0.00038, RelAtomicMass: 15.9994 }, X1comp: 0.00038, X2: { { AtomicSymbol = &quot;O&quot;\n",
              "  AtomicNumberZ = 8\n",
              "  MassNumber = 18\n",
              "  Mass = 17.9991611\n",
              "  NatAbundance = 0.00205\n",
              "  RelAtomicMass = 15.9994 }: AtomicSymbol: O, AtomicNumberZ: 8, MassNumber: 18, Mass: 17.9991611, NatAbundance: 0.00205, RelAtomicMass: 15.9994 }, X2comp: 0.00205, Root: ( { (-0.09268292682926829, 22.05925932732548): Real: -0.09268292682926829, Imaginary: 22.05925932732548, Magnitude: 22.059454032117884, Phase: 1.5749978450817832 }, { (-0.09268292682926829, -22.05925932732548): Real: -0.09268292682926829, Imaginary: -22.05925932732548, Magnitude: 22.059454032117884, Phase: -1.5749978450817832 } ) }</div></td></tr></tbody></table></td><td><div class=\"dni-plaintext\">59</div></td></tr></tbody></table>"
            ]
          },
          "metadata": {},
          "output_type": "display_data"
        }
      ],
      "metadata": {
        "dotnet_interactive": {
          "language": "fsharp"
        }
      }
    },
    {
      "cell_type": "code",
      "execution_count": null,
      "source": [
        "// Code-Block 7\r\n",
        "\r\n",
        "// create pattern for N15_peptide_short\r\n",
        "let N15_isoPattern_peptide_short = \r\n",
        "    generateIsotopicDistribution 1 N15_peptide_short\r\n",
        "\r\n",
        "// create pattern for N15_peptide_long\r\n",
        "let N15_isoPattern_peptid_long = \r\n",
        "    generateIsotopicDistribution 1 N15_peptide_long"
      ],
      "outputs": [],
      "metadata": {
        "dotnet_interactive": {
          "language": "fsharp"
        }
      }
    },
    {
      "cell_type": "code",
      "execution_count": null,
      "source": [
        "// Code-Block 8\r\n",
        "\r\n",
        "// Create two charts. Each with the related 14N and 15N isotopic clusters. Then stack them two one unit.\r\n",
        "let isoPatternChart2 = \r\n",
        "    [\r\n",
        "        [\r\n",
        "            Chart.Column(isoPattern_peptide_short,Name= \"peptide_short\" )\r\n",
        "            Chart.Column(N15_isoPattern_peptide_short,Name= \"N15_peptide_short\" )\r\n",
        "        ] \r\n",
        "        |> Chart.Combine \r\n",
        "        |> Chart.withX_AxisStyle (\"m/z\",MinMax=(885., 905.0))\r\n",
        "\r\n",
        "        [\r\n",
        "            Chart.Column(isoPattern_peptide_long,Name= \"peptide_long\" )\r\n",
        "            Chart.Column(N15_isoPattern_peptid_long,Name= \"N15_peptide_long\" )            \r\n",
        "        ] \r\n",
        "        |> Chart.Combine \r\n",
        "        |> Chart.withX_AxisStyle (\"m/z\",MinMax=(3230.0, 3270.0))\r\n",
        "    ]\r\n",
        "    |> Chart.Stack 2\r\n",
        "    |> Chart.withTitle \"Isotopeclusters\"\r\n",
        "    |> Chart.withY_AxisStyle \"intensity\"\r\n",
        "isoPatternChart2"
      ],
      "outputs": [
        {
          "data": {
            "text/html": [
              "<div id=\"f484c9f8-0ce8-4b96-bd46-42b9d47664b3\" style=\"width: 600px; height: 600px;\"><!-- Plotly chart will be drawn inside this DIV --></div>\r\n",
              "<script type=\"text/javascript\">\r\n",
              "\n",
              "            var renderPlotly_f484c9f80ce84b96bd4642b9d47664b3 = function() {\n",
              "            var fsharpPlotlyRequire = requirejs.config({context:'fsharp-plotly',paths:{plotly:'https://cdn.plot.ly/plotly-latest.min'}}) || require;\n",
              "            fsharpPlotlyRequire(['plotly'], function(Plotly) {\r\n",
              "\n",
              "            var data = [{\"type\":\"bar\",\"x\":[887.399558199034,888.4024872665019,889.4049942776403,890.4081884772683],\"y\":[1.0,0.43236774529511174,0.12578247843311785,0.024134205673036688],\"marker\":{},\"name\":\"peptide_short\",\"xaxis\":\"x\",\"yaxis\":\"y\"},{\"type\":\"bar\",\"x\":[894.3788365975154,895.3759499224518,896.3792323902378,897.3818499569743,898.3845066469612],\"y\":[0.0288860382140478,1.0,0.3984467169061343,0.11307938727778763,0.023853159064528624],\"marker\":{},\"name\":\"N15_peptide_short\",\"xaxis\":\"x\",\"yaxis\":\"y\"},{\"type\":\"bar\",\"x\":[3231.4470647196554,3232.4500572584698,3233.452986075872,3234.4559191540584,3235.4583946426615,3236.4625915315855],\"y\":[0.6079646485424579,1.0,0.9085467193387605,0.5658743566632869,0.26182515682174157,0.08134469002336972],\"marker\":{},\"name\":\"peptide_long\",\"xaxis\":\"x2\",\"yaxis\":\"y2\"},{\"type\":\"bar\",\"x\":[3259.3641783135813,3260.362110012513,3261.365076207296,3262.3681072195172,3263.370812501318,3264.3737877709027,3265.3767448967224],\"y\":[0.06384122646754022,0.7008291559420009,1.0,0.8402034738792131,0.4705485682431846,0.21695377275354297,0.08062486597973496],\"marker\":{},\"name\":\"N15_peptide_long\",\"xaxis\":\"x2\",\"yaxis\":\"y2\"}];\n",
              "            var layout = {\"xaxis\":{\"title\":\"m/z\",\"range\":[885.0,905.0],\"anchor\":\"y\",\"domain\":[0.0,0.45]},\"yaxis\":{\"anchor\":\"x\",\"domain\":[0.050000000000000044,1.0],\"title\":\"intensity\"},\"xaxis2\":{\"title\":\"m/z\",\"range\":[3230.0,3270.0],\"anchor\":\"y2\",\"domain\":[0.5,0.95]},\"yaxis2\":{\"anchor\":\"x2\",\"domain\":[0.050000000000000044,1.0]},\"title\":\"Isotopeclusters\"};\n",
              "            var config = {};\n",
              "            Plotly.newPlot('f484c9f8-0ce8-4b96-bd46-42b9d47664b3', data, layout, config);\r\n",
              "});\n",
              "            };\n",
              "            if ((typeof(requirejs) !==  typeof(Function)) || (typeof(requirejs.config) !== typeof(Function))) {\n",
              "                var script = document.createElement(\"script\");\n",
              "                script.setAttribute(\"src\", \"https://cdnjs.cloudflare.com/ajax/libs/require.js/2.3.6/require.min.js\");\n",
              "                script.onload = function(){\n",
              "                    renderPlotly_f484c9f80ce84b96bd4642b9d47664b3();\n",
              "                };\n",
              "                document.getElementsByTagName(\"head\")[0].appendChild(script);\n",
              "            }\n",
              "            else {\n",
              "                renderPlotly_f484c9f80ce84b96bd4642b9d47664b3();\n",
              "            }\r\n",
              "</script>\r\n"
            ]
          },
          "metadata": {},
          "output_type": "display_data"
        }
      ],
      "metadata": {
        "dotnet_interactive": {
          "language": "fsharp"
        }
      }
    },
    {
      "cell_type": "markdown",
      "source": [
        "## Questions\n",
        "\n",
        "1. Does the isotopic distribution tend to vary more or less the larger a peptide sequence becomes?\n",
        "2. How does the isotopic distribution of the amino acid-sequence \"SEQUENCE\" look like with natural and heavy N-labelling? Plot it via using the functions provided above.\n",
        "3. Which information can be drawn from the distance of two values of adjacent signals (of one isotopic cluster) regarding m/z?\n",
        "## References\n",
        "\n",
        "25. Yergey, J. A. A General-Approach to Calculating Isotopic Distributions for Mass-Spectrometry. Int J Mass Spectrom 52, 337–349; 10.1016/0020-7381(83)85053-0 (1983).\n",
        "26. Claesen, J., Dittwald, P., Burzykowski, T. & Valkenborg, D. An efficient method to calculate the aggregated isotopic distribution and exact center-masses. Journal of the American Society for Mass Spectrometry 23, 753–763; 10.1007/s13361-011-0326-2 (2012).\n",
        "27. Rockwood, A. L., Vanorden, S. L. & Smith, R. D. Rapid Calculation of Isotope Distributions. Anal Chem 67, 2699–2704; 10.1021/Ac00111a031 (1995).\n",
        "28. Snider, R. K. Efficient calculation of exact mass isotopic distributions. Journal of the American Society for Mass Spectrometry 18, 1511–1515; 10.1016/j.jasms.2007.05.016 (2007).\n",
        "29. Alves, G. & Yu, Y. K. Robust accurate identification of peptides (RAId). deciphering MS2 data using a structured library search with de novo based statistics. Bioinformatics 21, 3726–3732; 10.1093/bioinformatics/bti620 (2005).\n",
        "30. Becker, G. W. Stable isotopic labeling of proteins for quantitative proteomic applications. Brief Funct Genomic Proteomic 7, 371–382; 10.1093/bfgp/eln047 (2008)."
      ],
      "metadata": {}
    }
  ],
  "metadata": {
    "kernelspec": {
      "display_name": ".NET (C#)",
      "language": "C#",
      "name": ".net-csharp"
    },
    "language_info": {
      "file_extension": ".cs",
      "mimetype": "text/x-csharp",
      "name": "C#",
      "pygments_lexer": "csharp",
      "version": "8.0"
    }
  },
  "nbformat": 4,
  "nbformat_minor": 4
}